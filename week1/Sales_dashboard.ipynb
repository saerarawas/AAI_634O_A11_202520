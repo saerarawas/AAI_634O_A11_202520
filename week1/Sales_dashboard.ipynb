{
  "nbformat": 4,
  "nbformat_minor": 0,
  "metadata": {
    "colab": {
      "provenance": [],
      "authorship_tag": "ABX9TyPcuMm8iWZL4zANWyTOpPXD",
      "include_colab_link": true
    },
    "kernelspec": {
      "name": "python3",
      "display_name": "Python 3"
    },
    "language_info": {
      "name": "python"
    }
  },
  "cells": [
    {
      "cell_type": "markdown",
      "metadata": {
        "id": "view-in-github",
        "colab_type": "text"
      },
      "source": [
        "<a href=\"https://colab.research.google.com/github/saerarawas/AAI_634O_A11_202520/blob/main/week1/Sales_dashboard.ipynb\" target=\"_parent\"><img src=\"https://colab.research.google.com/assets/colab-badge.svg\" alt=\"Open In Colab\"/></a>"
      ]
    },
    {
      "cell_type": "code",
      "source": [
        "import pandas as pd\n",
        "import numpy as np\n",
        "\n",
        "# Define the number of records\n",
        "num_records = 100\n",
        "\n",
        "# Generate random dates within a specific range\n",
        "dates = pd.date_range(start='2023-01-01', end='2023-12-31', periods=num_records)\n",
        "\n",
        "# Generate product IDs (e.g., P001, P002, ..., P100)\n",
        "product_ids = [f'P{str(i).zfill(3)}' for i in range(1, num_records + 1)]\n",
        "\n",
        "# Generate random sales amounts\n",
        "sales_amounts = np.random.randint(100, 1000, size=num_records)\n",
        "\n",
        "# Define a list of store locations\n",
        "store_locations = ['New York', 'Los Angeles', 'Chicago', 'Houston', 'Phoenix']\n",
        "\n",
        "# Randomly assign store locations to the records\n",
        "locations = np.random.choice(store_locations, size=num_records)\n",
        "\n",
        "# Create a DataFrame with the generated data\n",
        "data = {\n",
        "    'date': dates,\n",
        "    'product_id': product_ids,\n",
        "    'sales_amount': sales_amounts,\n",
        "    'store_location': locations\n",
        "}\n",
        "\n",
        "df = pd.DataFrame(data)\n",
        "\n",
        "# Save the DataFrame to a CSV file\n",
        "df.to_csv('sales_data.csv', index=False)\n",
        "\n",
        "# Display the first few rows of the DataFrame\n",
        "print(df.head())"
      ],
      "metadata": {
        "colab": {
          "base_uri": "https://localhost:8080/"
        },
        "id": "Kcs7K07N4POd",
        "outputId": "24e1cc52-753d-4c01-bbb2-358b0597e085"
      },
      "execution_count": 43,
      "outputs": [
        {
          "output_type": "stream",
          "name": "stdout",
          "text": [
            "                           date product_id  sales_amount store_location\n",
            "0 2023-01-01 00:00:00.000000000       P001           346        Phoenix\n",
            "1 2023-01-04 16:14:32.727272727       P002           997        Houston\n",
            "2 2023-01-08 08:29:05.454545454       P003           815        Houston\n",
            "3 2023-01-12 00:43:38.181818181       P004           931        Phoenix\n",
            "4 2023-01-15 16:58:10.909090909       P005           923        Chicago\n"
          ]
        }
      ]
    },
    {
      "cell_type": "code",
      "execution_count": 44,
      "metadata": {
        "colab": {
          "base_uri": "https://localhost:8080/"
        },
        "id": "uFp7H02v1ein",
        "outputId": "b1c46cb7-965b-43ad-9641-8001c3ea520c"
      },
      "outputs": [
        {
          "output_type": "stream",
          "name": "stdout",
          "text": [
            "                            date product_id  sales_amount store_location\n",
            "0  2023-01-01 00:00:00.000000000       P001           346        Phoenix\n",
            "1  2023-01-04 16:14:32.727272727       P002           997        Houston\n",
            "2  2023-01-08 08:29:05.454545454       P003           815        Houston\n",
            "3  2023-01-12 00:43:38.181818181       P004           931        Phoenix\n",
            "4  2023-01-15 16:58:10.909090909       P005           923        Chicago\n",
            "Total Sales: 54967\n",
            "Sales by Location:\n",
            "  store_location  sales_amount\n",
            "0        Chicago         11249\n",
            "1        Houston         12138\n",
            "2    Los Angeles         12299\n",
            "3       New York          5882\n",
            "4        Phoenix         13399\n",
            "Sales by Product:\n",
            "   product_id  sales_amount\n",
            "0        P001           346\n",
            "1        P002           997\n",
            "2        P003           815\n",
            "3        P004           931\n",
            "4        P005           923\n",
            "..        ...           ...\n",
            "95       P096           866\n",
            "96       P097           741\n",
            "97       P098           109\n",
            "98       P099           717\n",
            "99       P100           454\n",
            "\n",
            "[100 rows x 2 columns]\n",
            "Basic Statistics:\n",
            "       sales_amount\n",
            "count    100.000000\n",
            "mean     549.670000\n",
            "std      273.820595\n",
            "min      105.000000\n",
            "25%      317.500000\n",
            "50%      543.500000\n",
            "75%      799.250000\n",
            "max      997.000000\n",
            "Highest Sales Store: store_location    Phoenix\n",
            "sales_amount        13399\n",
            "Name: 4, dtype: object\n",
            "Highest Sales Product: product_id      P002\n",
            "sales_amount     997\n",
            "Name: 1, dtype: object\n"
          ]
        }
      ],
      "source": [
        "import pandas as pd\n",
        "\n",
        "# Load sales data from CSV\n",
        "sales_data = pd.read_csv('sales_data.csv')\n",
        "\n",
        "# Display the first few rows of the dataset\n",
        "print(sales_data.head())\n",
        "\n",
        "# Calculate total sales\n",
        "total_sales = sales_data['sales_amount'].sum()\n",
        "print(f'Total Sales: {total_sales}')\n",
        "\n",
        "# Calculate sales by location\n",
        "sales_by_location = sales_data.groupby('store_location')['sales_amount'].sum().reset_index()\n",
        "print('Sales by Location:')\n",
        "print(sales_by_location)\n",
        "\n",
        "# Calculate sales by product\n",
        "sales_by_product = sales_data.groupby('product_id')['sales_amount'].sum().reset_index()\n",
        "print('Sales by Product:')\n",
        "print(sales_by_product)\n",
        "\n",
        "# Basic statistics\n",
        "statistics = sales_data.describe()\n",
        "print('Basic Statistics:')\n",
        "print(statistics)\n",
        "\n",
        "# Identify the store with the highest sales\n",
        "highest_sales_store = sales_by_location.loc[sales_by_location['sales_amount'].idxmax()]\n",
        "print(f'Highest Sales Store: {highest_sales_store}')\n",
        "\n",
        "# Identify the product with the highest sales\n",
        "highest_sales_product = sales_by_product.loc[sales_by_product['sales_amount'].idxmax()]\n",
        "print(f'Highest Sales Product: {highest_sales_product}')\n",
        "\n"
      ]
    },
    {
      "cell_type": "code",
      "source": [
        "!pip install dash\n",
        "import dash\n",
        "from dash import dcc, html\n",
        "from dash.dependencies import Input, Output\n",
        "import plotly.express as px\n",
        "import pandas as pd\n",
        "\n",
        "# Load sales data from CSV\n",
        "sales_data = pd.read_csv('sales_data.csv')\n",
        "\n",
        "# Aggregate sales data by store location\n",
        "sales_by_location = sales_data.groupby('store_location')['sales_amount'].sum().reset_index()\n",
        "\n",
        "# Initialize the Dash app\n",
        "app = dash.Dash(__name__)\n",
        "\n",
        "# Create a bar chart\n",
        "fig = px.bar(sales_by_location, x='store_location', y='sales_amount', title='Sales by Store Location')\n",
        "\n",
        "# Set up the layout of the app\n",
        "app.layout = html.Div(children=[\n",
        "    html.H1(children='Sales Dashboard'),\n",
        "    dcc.Graph(figure=fig)\n",
        "])\n",
        "\n",
        "if __name__ == '__main__':\n",
        "    app.run_server(debug=True)\n"
      ],
      "metadata": {
        "colab": {
          "base_uri": "https://localhost:8080/",
          "height": 1000
        },
        "id": "oWZSTvTv5CUP",
        "outputId": "db86b65c-57a8-44e2-bbea-aacf92917d0e"
      },
      "execution_count": 45,
      "outputs": [
        {
          "output_type": "stream",
          "name": "stdout",
          "text": [
            "Requirement already satisfied: dash in /usr/local/lib/python3.11/dist-packages (2.18.2)\n",
            "Requirement already satisfied: Flask<3.1,>=1.0.4 in /usr/local/lib/python3.11/dist-packages (from dash) (3.0.3)\n",
            "Requirement already satisfied: Werkzeug<3.1 in /usr/local/lib/python3.11/dist-packages (from dash) (3.0.6)\n",
            "Requirement already satisfied: plotly>=5.0.0 in /usr/local/lib/python3.11/dist-packages (from dash) (5.24.1)\n",
            "Requirement already satisfied: dash-html-components==2.0.0 in /usr/local/lib/python3.11/dist-packages (from dash) (2.0.0)\n",
            "Requirement already satisfied: dash-core-components==2.0.0 in /usr/local/lib/python3.11/dist-packages (from dash) (2.0.0)\n",
            "Requirement already satisfied: dash-table==5.0.0 in /usr/local/lib/python3.11/dist-packages (from dash) (5.0.0)\n",
            "Requirement already satisfied: importlib-metadata in /usr/local/lib/python3.11/dist-packages (from dash) (8.6.1)\n",
            "Requirement already satisfied: typing-extensions>=4.1.1 in /usr/local/lib/python3.11/dist-packages (from dash) (4.12.2)\n",
            "Requirement already satisfied: requests in /usr/local/lib/python3.11/dist-packages (from dash) (2.32.3)\n",
            "Requirement already satisfied: retrying in /usr/local/lib/python3.11/dist-packages (from dash) (1.3.4)\n",
            "Requirement already satisfied: nest-asyncio in /usr/local/lib/python3.11/dist-packages (from dash) (1.6.0)\n",
            "Requirement already satisfied: setuptools in /usr/local/lib/python3.11/dist-packages (from dash) (75.1.0)\n",
            "Requirement already satisfied: Jinja2>=3.1.2 in /usr/local/lib/python3.11/dist-packages (from Flask<3.1,>=1.0.4->dash) (3.1.5)\n",
            "Requirement already satisfied: itsdangerous>=2.1.2 in /usr/local/lib/python3.11/dist-packages (from Flask<3.1,>=1.0.4->dash) (2.2.0)\n",
            "Requirement already satisfied: click>=8.1.3 in /usr/local/lib/python3.11/dist-packages (from Flask<3.1,>=1.0.4->dash) (8.1.8)\n",
            "Requirement already satisfied: blinker>=1.6.2 in /usr/local/lib/python3.11/dist-packages (from Flask<3.1,>=1.0.4->dash) (1.9.0)\n",
            "Requirement already satisfied: tenacity>=6.2.0 in /usr/local/lib/python3.11/dist-packages (from plotly>=5.0.0->dash) (9.0.0)\n",
            "Requirement already satisfied: packaging in /usr/local/lib/python3.11/dist-packages (from plotly>=5.0.0->dash) (24.2)\n",
            "Requirement already satisfied: MarkupSafe>=2.1.1 in /usr/local/lib/python3.11/dist-packages (from Werkzeug<3.1->dash) (3.0.2)\n",
            "Requirement already satisfied: zipp>=3.20 in /usr/local/lib/python3.11/dist-packages (from importlib-metadata->dash) (3.21.0)\n",
            "Requirement already satisfied: charset-normalizer<4,>=2 in /usr/local/lib/python3.11/dist-packages (from requests->dash) (3.4.1)\n",
            "Requirement already satisfied: idna<4,>=2.5 in /usr/local/lib/python3.11/dist-packages (from requests->dash) (3.10)\n",
            "Requirement already satisfied: urllib3<3,>=1.21.1 in /usr/local/lib/python3.11/dist-packages (from requests->dash) (2.3.0)\n",
            "Requirement already satisfied: certifi>=2017.4.17 in /usr/local/lib/python3.11/dist-packages (from requests->dash) (2024.12.14)\n",
            "Requirement already satisfied: six>=1.7.0 in /usr/local/lib/python3.11/dist-packages (from retrying->dash) (1.17.0)\n"
          ]
        },
        {
          "output_type": "display_data",
          "data": {
            "text/plain": [
              "<IPython.core.display.Javascript object>"
            ],
            "application/javascript": [
              "(async (port, path, width, height, cache, element) => {\n",
              "    if (!google.colab.kernel.accessAllowed && !cache) {\n",
              "      return;\n",
              "    }\n",
              "    element.appendChild(document.createTextNode(''));\n",
              "    const url = await google.colab.kernel.proxyPort(port, {cache});\n",
              "    const iframe = document.createElement('iframe');\n",
              "    iframe.src = new URL(path, url).toString();\n",
              "    iframe.height = height;\n",
              "    iframe.width = width;\n",
              "    iframe.style.border = 0;\n",
              "    iframe.allow = [\n",
              "        'accelerometer',\n",
              "        'autoplay',\n",
              "        'camera',\n",
              "        'clipboard-read',\n",
              "        'clipboard-write',\n",
              "        'gyroscope',\n",
              "        'magnetometer',\n",
              "        'microphone',\n",
              "        'serial',\n",
              "        'usb',\n",
              "        'xr-spatial-tracking',\n",
              "    ].join('; ');\n",
              "    element.appendChild(iframe);\n",
              "  })(8050, \"/\", \"100%\", 650, false, window.element)"
            ]
          },
          "metadata": {}
        }
      ]
    },
    {
      "cell_type": "code",
      "source": [
        "import dash\n",
        "from dash import dcc, html\n",
        "from dash.dependencies import Input, Output\n",
        "import plotly.express as px\n",
        "import pandas as pd\n",
        "\n",
        "# Load sales data from CSV\n",
        "sales_data = pd.read_csv('sales_data.csv')\n",
        "\n",
        "# Initialize the Dash app\n",
        "app = dash.Dash(__name__)\n",
        "\n",
        "# Function to aggregate sales data by store location\n",
        "def aggregate_sales_by_location():\n",
        "    return sales_data.groupby('store_location')['sales_amount'].sum().reset_index()\n",
        "\n",
        "# Function to aggregate sales data by product\n",
        "def aggregate_sales_by_product():\n",
        "    return sales_data.groupby('product_id')['sales_amount'].sum().reset_index()\n",
        "\n",
        "# Layout of the app\n",
        "app.layout = html.Div([\n",
        "    html.H1('Sales Dashboard'),\n",
        "\n",
        "    # Dropdown for selecting the type of aggregation\n",
        "    dcc.Dropdown(\n",
        "        id='select-type',\n",
        "        options=[\n",
        "            {'label': 'Store Location', 'value': 'location'},\n",
        "            {'label': 'Product', 'value': 'product'}\n",
        "        ],\n",
        "        value='location',  # Default value\n",
        "        style={'width': '50%'}\n",
        "    ),\n",
        "\n",
        "    # Graph for visualizing total sales\n",
        "    dcc.Graph(id='bar-chart')\n",
        "])\n",
        "\n",
        "# Callback to update the bar chart based on the selected type\n",
        "@app.callback(\n",
        "    Output('bar-chart', 'figure'),\n",
        "    [Input('select-type', 'value')]\n",
        ")\n",
        "def update_bar_chart(selected_type):\n",
        "    if selected_type == 'location':\n",
        "        sales_by_location = aggregate_sales_by_location()\n",
        "        fig = px.bar(sales_by_location, x='store_location', y='sales_amount', title='Sales by Store Location')\n",
        "    else:\n",
        "        sales_by_product = aggregate_sales_by_product()\n",
        "        fig = px.bar(sales_by_product, x='product_id', y='sales_amount', title='Sales by Product')\n",
        "    return fig\n",
        "\n",
        "if __name__ == '__main__':\n",
        "    app.run_server(debug=True)\n",
        "\n"
      ],
      "metadata": {
        "colab": {
          "base_uri": "https://localhost:8080/",
          "height": 671
        },
        "id": "YPBvuj7r80Sh",
        "outputId": "849902f3-6f90-4740-c578-b42fb9270ec2"
      },
      "execution_count": 46,
      "outputs": [
        {
          "output_type": "display_data",
          "data": {
            "text/plain": [
              "<IPython.core.display.Javascript object>"
            ],
            "application/javascript": [
              "(async (port, path, width, height, cache, element) => {\n",
              "    if (!google.colab.kernel.accessAllowed && !cache) {\n",
              "      return;\n",
              "    }\n",
              "    element.appendChild(document.createTextNode(''));\n",
              "    const url = await google.colab.kernel.proxyPort(port, {cache});\n",
              "    const iframe = document.createElement('iframe');\n",
              "    iframe.src = new URL(path, url).toString();\n",
              "    iframe.height = height;\n",
              "    iframe.width = width;\n",
              "    iframe.style.border = 0;\n",
              "    iframe.allow = [\n",
              "        'accelerometer',\n",
              "        'autoplay',\n",
              "        'camera',\n",
              "        'clipboard-read',\n",
              "        'clipboard-write',\n",
              "        'gyroscope',\n",
              "        'magnetometer',\n",
              "        'microphone',\n",
              "        'serial',\n",
              "        'usb',\n",
              "        'xr-spatial-tracking',\n",
              "    ].join('; ');\n",
              "    element.appendChild(iframe);\n",
              "  })(8050, \"/\", \"100%\", 650, false, window.element)"
            ]
          },
          "metadata": {}
        }
      ]
    },
    {
      "cell_type": "markdown",
      "source": [
        "Highest Sales Store:\n",
        "store_location  :  Phoenix;\n",
        "\n",
        "sales_amount  =        13399\n",
        "\n",
        "Highest Sales Product:\n",
        "product_id    :  P002;\n",
        "\n",
        "sales_amount   = 997"
      ],
      "metadata": {
        "id": "InexmX_y6azx"
      }
    }
  ]
}