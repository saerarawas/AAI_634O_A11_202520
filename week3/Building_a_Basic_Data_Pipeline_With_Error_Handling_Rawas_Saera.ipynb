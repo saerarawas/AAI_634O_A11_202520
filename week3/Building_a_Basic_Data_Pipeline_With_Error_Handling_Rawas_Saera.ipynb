{
  "nbformat": 4,
  "nbformat_minor": 0,
  "metadata": {
    "colab": {
      "provenance": [],
      "authorship_tag": "ABX9TyOXbrz9GqaJDuRRmHZlfeQ/",
      "include_colab_link": true
    },
    "kernelspec": {
      "name": "python3",
      "display_name": "Python 3"
    },
    "language_info": {
      "name": "python"
    }
  },
  "cells": [
    {
      "cell_type": "markdown",
      "metadata": {
        "id": "view-in-github",
        "colab_type": "text"
      },
      "source": [
        "<a href=\"https://colab.research.google.com/github/saerarawas/AAI_634O_A11_202520/blob/main/week3/Building_a_Basic_Data_Pipeline_With_Error_Handling_Rawas_Saera.ipynb\" target=\"_parent\"><img src=\"https://colab.research.google.com/assets/colab-badge.svg\" alt=\"Open In Colab\"/></a>"
      ]
    },
    {
      "cell_type": "code",
      "source": [
        "!pip install pymongo\n",
        "import pandas as pd\n",
        "\n",
        "# Define the sales data\n",
        "data = {\n",
        "    \"transaction_id\": [\"T001\", \"T002\", \"T003\"],\n",
        "    \"customer_id\": [\"C001\", \"C002\", \"C001\"],\n",
        "    \"product_id\": [\"P001\", \"P002\", \"P003\"],\n",
        "    \"quantity\": [2, 1, 3],\n",
        "    \"price\": [100, 200, 50]\n",
        "}\n",
        "\n",
        "# Create a DataFrame\n",
        "df = pd.DataFrame(data)\n",
        "\n",
        "# Save the DataFrame as a CSV file\n",
        "csv_filename = \"sales.csv\"\n",
        "df.to_csv(csv_filename, index=False)\n",
        "\n",
        "print(f\"CSV file '{csv_filename}' has been created successfully!\")"
      ],
      "metadata": {
        "colab": {
          "base_uri": "https://localhost:8080/"
        },
        "id": "eukA0D3a8f4o",
        "outputId": "b573e312-75bb-43c0-91d5-ce350e6c9c49"
      },
      "execution_count": 1,
      "outputs": [
        {
          "output_type": "stream",
          "name": "stdout",
          "text": [
            "Collecting pymongo\n",
            "  Downloading pymongo-4.11-cp311-cp311-manylinux_2_17_x86_64.manylinux2014_x86_64.whl.metadata (22 kB)\n",
            "Collecting dnspython<3.0.0,>=1.16.0 (from pymongo)\n",
            "  Downloading dnspython-2.7.0-py3-none-any.whl.metadata (5.8 kB)\n",
            "Downloading pymongo-4.11-cp311-cp311-manylinux_2_17_x86_64.manylinux2014_x86_64.whl (1.4 MB)\n",
            "\u001b[2K   \u001b[90m━━━━━━━━━━━━━━━━━━━━━━━━━━━━━━━━━━━━━━━━\u001b[0m \u001b[32m1.4/1.4 MB\u001b[0m \u001b[31m18.6 MB/s\u001b[0m eta \u001b[36m0:00:00\u001b[0m\n",
            "\u001b[?25hDownloading dnspython-2.7.0-py3-none-any.whl (313 kB)\n",
            "\u001b[2K   \u001b[90m━━━━━━━━━━━━━━━━━━━━━━━━━━━━━━━━━━━━━━━━\u001b[0m \u001b[32m313.6/313.6 kB\u001b[0m \u001b[31m16.8 MB/s\u001b[0m eta \u001b[36m0:00:00\u001b[0m\n",
            "\u001b[?25hInstalling collected packages: dnspython, pymongo\n",
            "Successfully installed dnspython-2.7.0 pymongo-4.11\n",
            "CSV file 'sales.csv' has been created successfully!\n"
          ]
        }
      ]
    },
    {
      "cell_type": "code",
      "source": [
        "import pandas as pd\n",
        "import logging\n",
        "import pymongo\n",
        "from pymongo import MongoClient\n",
        "\n",
        "# Configure logging\n",
        "logging.basicConfig(filename=\"pipeline.log\", level=logging.INFO,\n",
        "                    format=\"%(asctime)s - %(levelname)s - %(message)s\")\n",
        "\n",
        "# MongoDB Connection\n",
        "MONGO_URI = \"mongodb://localhost:27017/\"\n",
        "DB_NAME = \"sales_db\"\n",
        "COLLECTION_NAME = \"sales_data\"\n",
        "\n",
        "def extract_data(csv_file):\n",
        "    \"\"\"Extract data from a CSV file.\"\"\"\n",
        "    try:\n",
        "        df = pd.read_csv(csv_file)\n",
        "        logging.info(f\"Successfully extracted data from {csv_file}\")\n",
        "        return df\n",
        "    except FileNotFoundError:\n",
        "        logging.error(f\"File {csv_file} not found.\")\n",
        "        raise\n",
        "    except Exception as e:\n",
        "        logging.error(f\"Error extracting data: {e}\")\n",
        "        raise\n",
        "\n",
        "def transform_data(df):\n",
        "    \"\"\"Transform data: Compute total revenue (Quantity * Price).\"\"\"\n",
        "    try:\n",
        "        df[\"total_revenue\"] = df[\"quantity\"] * df[\"price\"]\n",
        "        logging.info(\"Successfully transformed data\")\n",
        "        return df\n",
        "    except KeyError as e:\n",
        "        logging.error(f\"Missing column in data: {e}\")\n",
        "        raise\n",
        "    except Exception as e:\n",
        "        logging.error(f\"Error transforming data: {e}\")\n",
        "        raise\n",
        "\n",
        "def load_data(df):\n",
        "    \"\"\"Load data into MongoDB.\"\"\"\n",
        "    try:\n",
        "        client = MongoClient(MONGO_URI)\n",
        "        db = client[DB_NAME]\n",
        "        collection = db[COLLECTION_NAME]\n",
        "\n",
        "        records = df.to_dict(orient=\"records\")\n",
        "        collection.insert_many(records)\n",
        "\n",
        "        logging.info(f\"Successfully loaded {len(records)} records into MongoDB\")\n",
        "    except pymongo.errors.ConnectionError:\n",
        "        logging.error(\"Could not connect to MongoDB.\")\n",
        "        raise\n",
        "    except Exception as e:\n",
        "        logging.error(f\"Error loading data into MongoDB: {e}\")\n",
        "        raise\n",
        "\n",
        "def etl_pipeline(csv_file):\n",
        "    \"\"\"ETL Pipeline execution.\"\"\"\n",
        "    try:\n",
        "        df = extract_data(csv_file)\n",
        "        df = transform_data(df)\n",
        "        load_data(df)\n",
        "        logging.info(\"ETL pipeline executed successfully\")\n",
        "    except Exception as e:\n",
        "        logging.error(f\"ETL pipeline failed: {e}\")\n",
        "\n",
        "# Run ETL pipeline\n",
        "if __name__ == \"__main__\":\n",
        "    etl_pipeline(\"sales.csv\")"
      ],
      "metadata": {
        "colab": {
          "base_uri": "https://localhost:8080/"
        },
        "id": "kwlntym5BbjL",
        "outputId": "396629bf-a199-48d9-a858-6e4751d5c5eb"
      },
      "execution_count": 2,
      "outputs": [
        {
          "output_type": "stream",
          "name": "stderr",
          "text": [
            "ERROR:root:ETL pipeline failed: module 'pymongo.errors' has no attribute 'ConnectionError'\n"
          ]
        }
      ]
    }
  ]
}