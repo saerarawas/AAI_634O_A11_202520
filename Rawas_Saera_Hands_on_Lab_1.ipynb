{
  "nbformat": 4,
  "nbformat_minor": 0,
  "metadata": {
    "colab": {
      "provenance": []
    },
    "kernelspec": {
      "name": "python3",
      "display_name": "Python 3"
    },
    "language_info": {
      "name": "python"
    }
  },
  "cells": [
    {
      "cell_type": "markdown",
      "source": [
        "# **Week 1 Hands-on Lab: Data Visualization using Dash**\n",
        "\n",
        "\n"
      ],
      "metadata": {
        "id": "br0Qd7WyYBcq"
      }
    },
    {
      "cell_type": "markdown",
      "source": [
        "**Introduction**\n",
        "This notebook will guide you through building an interactive dashboard using the Python Dash framework. Dash allows you to create interactive, web-based visualizations, integrating charts and graphs with user inputs like dropdowns and sliders.\n",
        "\n",
        "We will:\n",
        "- Use the Gapminder dataset, which tracks global life expectancy, GDP, and population data across countries and years.\n",
        "- Create a dynamic dashboard that allows users to explore this data interactively.\n",
        "\n",
        "Let's get started!\n",
        "\n",
        "---"
      ],
      "metadata": {
        "id": "DGSzwClYbFQ7"
      }
    },
    {
      "cell_type": "markdown",
      "source": [
        "**Step 1: Install Required Libraries**\n",
        "To begin, we need to install the necessary Python libraries for our project. These include:\n",
        "- **Dash**: The core library for building interactive web applications.\n",
        "- **Dash Bootstrap Components**: An optional library to style the layout (provides pre-built styles).\n",
        "- **Plotly**: A powerful data visualization library used to create interactive plots.\n",
        "- **Pandas**: Used for data manipulation and analysis.\n",
        "\n",
        "Run the following code to install these libraries:"
      ],
      "metadata": {
        "id": "Z4TcZkeSbNOo"
      }
    },
    {
      "cell_type": "code",
      "source": [
        "!pip install dash dash-bootstrap-components pandas plotly"
      ],
      "metadata": {
        "colab": {
          "base_uri": "https://localhost:8080/"
        },
        "id": "trc-Avg_bUc4",
        "outputId": "f8a41cf5-69d3-4b29-f978-164a792b344b"
      },
      "execution_count": 9,
      "outputs": [
        {
          "output_type": "stream",
          "name": "stdout",
          "text": [
            "Requirement already satisfied: dash in /usr/local/lib/python3.11/dist-packages (2.18.2)\n",
            "Requirement already satisfied: dash-bootstrap-components in /usr/local/lib/python3.11/dist-packages (1.7.1)\n",
            "Requirement already satisfied: pandas in /usr/local/lib/python3.11/dist-packages (2.2.2)\n",
            "Requirement already satisfied: plotly in /usr/local/lib/python3.11/dist-packages (5.24.1)\n",
            "Requirement already satisfied: Flask<3.1,>=1.0.4 in /usr/local/lib/python3.11/dist-packages (from dash) (3.0.3)\n",
            "Requirement already satisfied: Werkzeug<3.1 in /usr/local/lib/python3.11/dist-packages (from dash) (3.0.6)\n",
            "Requirement already satisfied: dash-html-components==2.0.0 in /usr/local/lib/python3.11/dist-packages (from dash) (2.0.0)\n",
            "Requirement already satisfied: dash-core-components==2.0.0 in /usr/local/lib/python3.11/dist-packages (from dash) (2.0.0)\n",
            "Requirement already satisfied: dash-table==5.0.0 in /usr/local/lib/python3.11/dist-packages (from dash) (5.0.0)\n",
            "Requirement already satisfied: importlib-metadata in /usr/local/lib/python3.11/dist-packages (from dash) (8.5.0)\n",
            "Requirement already satisfied: typing-extensions>=4.1.1 in /usr/local/lib/python3.11/dist-packages (from dash) (4.12.2)\n",
            "Requirement already satisfied: requests in /usr/local/lib/python3.11/dist-packages (from dash) (2.32.3)\n",
            "Requirement already satisfied: retrying in /usr/local/lib/python3.11/dist-packages (from dash) (1.3.4)\n",
            "Requirement already satisfied: nest-asyncio in /usr/local/lib/python3.11/dist-packages (from dash) (1.6.0)\n",
            "Requirement already satisfied: setuptools in /usr/local/lib/python3.11/dist-packages (from dash) (75.1.0)\n",
            "Requirement already satisfied: numpy>=1.23.2 in /usr/local/lib/python3.11/dist-packages (from pandas) (1.26.4)\n",
            "Requirement already satisfied: python-dateutil>=2.8.2 in /usr/local/lib/python3.11/dist-packages (from pandas) (2.8.2)\n",
            "Requirement already satisfied: pytz>=2020.1 in /usr/local/lib/python3.11/dist-packages (from pandas) (2024.2)\n",
            "Requirement already satisfied: tzdata>=2022.7 in /usr/local/lib/python3.11/dist-packages (from pandas) (2024.2)\n",
            "Requirement already satisfied: tenacity>=6.2.0 in /usr/local/lib/python3.11/dist-packages (from plotly) (9.0.0)\n",
            "Requirement already satisfied: packaging in /usr/local/lib/python3.11/dist-packages (from plotly) (24.2)\n",
            "Requirement already satisfied: Jinja2>=3.1.2 in /usr/local/lib/python3.11/dist-packages (from Flask<3.1,>=1.0.4->dash) (3.1.5)\n",
            "Requirement already satisfied: itsdangerous>=2.1.2 in /usr/local/lib/python3.11/dist-packages (from Flask<3.1,>=1.0.4->dash) (2.2.0)\n",
            "Requirement already satisfied: click>=8.1.3 in /usr/local/lib/python3.11/dist-packages (from Flask<3.1,>=1.0.4->dash) (8.1.8)\n",
            "Requirement already satisfied: blinker>=1.6.2 in /usr/local/lib/python3.11/dist-packages (from Flask<3.1,>=1.0.4->dash) (1.9.0)\n",
            "Requirement already satisfied: six>=1.5 in /usr/local/lib/python3.11/dist-packages (from python-dateutil>=2.8.2->pandas) (1.17.0)\n",
            "Requirement already satisfied: MarkupSafe>=2.1.1 in /usr/local/lib/python3.11/dist-packages (from Werkzeug<3.1->dash) (3.0.2)\n",
            "Requirement already satisfied: zipp>=3.20 in /usr/local/lib/python3.11/dist-packages (from importlib-metadata->dash) (3.21.0)\n",
            "Requirement already satisfied: charset-normalizer<4,>=2 in /usr/local/lib/python3.11/dist-packages (from requests->dash) (3.4.1)\n",
            "Requirement already satisfied: idna<4,>=2.5 in /usr/local/lib/python3.11/dist-packages (from requests->dash) (3.10)\n",
            "Requirement already satisfied: urllib3<3,>=1.21.1 in /usr/local/lib/python3.11/dist-packages (from requests->dash) (2.3.0)\n",
            "Requirement already satisfied: certifi>=2017.4.17 in /usr/local/lib/python3.11/dist-packages (from requests->dash) (2024.12.14)\n"
          ]
        }
      ]
    },
    {
      "cell_type": "markdown",
      "source": [
        "**Step 2: Import the Libraries**\n",
        "\n",
        "Next, we'll import the libraries we just installed. These will allow us to load the dataset, build the layout, and create interactive visualizations."
      ],
      "metadata": {
        "id": "w2n6gRvjbex1"
      }
    },
    {
      "cell_type": "code",
      "source": [
        "import dash\n",
        "import dash_core_components as dcc\n",
        "import dash_html_components as html\n",
        "from dash.dependencies import Input, Output\n",
        "import plotly.express as px\n",
        "import pandas as pd"
      ],
      "metadata": {
        "id": "gjbf96vrbouV"
      },
      "execution_count": 10,
      "outputs": []
    },
    {
      "cell_type": "markdown",
      "source": [
        "- dash: Core Dash library for building the app.\n",
        "- dash_core_components and dash_html_components: Used to create interactive controls like dropdowns and HTML elements for the layout.\n",
        "- plotly.express: Simplified interface for creating visualizations.\n",
        "- pandas: For data handling."
      ],
      "metadata": {
        "id": "eefOpbGtbva5"
      }
    },
    {
      "cell_type": "markdown",
      "source": [
        "**Step 3: Load the Dataset**\n",
        "\n",
        "For this lab, we will use the **Gapminder dataset**, which contains information about life expectancy, GDP, and population by country across several years.\n",
        "\n",
        "We'll load the data using Pandas and inspect the first few rows.\n",
        "\n"
      ],
      "metadata": {
        "id": "fYJ8-rphb8jc"
      }
    },
    {
      "cell_type": "code",
      "source": [
        "# Load the dataset\n",
        "df = px.data.gapminder()\n",
        "\n",
        "# Display the first few rows of the dataset\n",
        "df.head()"
      ],
      "metadata": {
        "id": "AoIKpMKZcHVV",
        "colab": {
          "base_uri": "https://localhost:8080/",
          "height": 206
        },
        "outputId": "f654dc9c-b695-433c-ea3b-a4ea2ef7f811"
      },
      "execution_count": 11,
      "outputs": [
        {
          "output_type": "execute_result",
          "data": {
            "text/plain": [
              "       country continent  year  lifeExp       pop   gdpPercap iso_alpha  \\\n",
              "0  Afghanistan      Asia  1952   28.801   8425333  779.445314       AFG   \n",
              "1  Afghanistan      Asia  1957   30.332   9240934  820.853030       AFG   \n",
              "2  Afghanistan      Asia  1962   31.997  10267083  853.100710       AFG   \n",
              "3  Afghanistan      Asia  1967   34.020  11537966  836.197138       AFG   \n",
              "4  Afghanistan      Asia  1972   36.088  13079460  739.981106       AFG   \n",
              "\n",
              "   iso_num  \n",
              "0        4  \n",
              "1        4  \n",
              "2        4  \n",
              "3        4  \n",
              "4        4  "
            ],
            "text/html": [
              "\n",
              "  <div id=\"df-fe919879-a53c-42f6-a0bb-0351ba42f0ff\" class=\"colab-df-container\">\n",
              "    <div>\n",
              "<style scoped>\n",
              "    .dataframe tbody tr th:only-of-type {\n",
              "        vertical-align: middle;\n",
              "    }\n",
              "\n",
              "    .dataframe tbody tr th {\n",
              "        vertical-align: top;\n",
              "    }\n",
              "\n",
              "    .dataframe thead th {\n",
              "        text-align: right;\n",
              "    }\n",
              "</style>\n",
              "<table border=\"1\" class=\"dataframe\">\n",
              "  <thead>\n",
              "    <tr style=\"text-align: right;\">\n",
              "      <th></th>\n",
              "      <th>country</th>\n",
              "      <th>continent</th>\n",
              "      <th>year</th>\n",
              "      <th>lifeExp</th>\n",
              "      <th>pop</th>\n",
              "      <th>gdpPercap</th>\n",
              "      <th>iso_alpha</th>\n",
              "      <th>iso_num</th>\n",
              "    </tr>\n",
              "  </thead>\n",
              "  <tbody>\n",
              "    <tr>\n",
              "      <th>0</th>\n",
              "      <td>Afghanistan</td>\n",
              "      <td>Asia</td>\n",
              "      <td>1952</td>\n",
              "      <td>28.801</td>\n",
              "      <td>8425333</td>\n",
              "      <td>779.445314</td>\n",
              "      <td>AFG</td>\n",
              "      <td>4</td>\n",
              "    </tr>\n",
              "    <tr>\n",
              "      <th>1</th>\n",
              "      <td>Afghanistan</td>\n",
              "      <td>Asia</td>\n",
              "      <td>1957</td>\n",
              "      <td>30.332</td>\n",
              "      <td>9240934</td>\n",
              "      <td>820.853030</td>\n",
              "      <td>AFG</td>\n",
              "      <td>4</td>\n",
              "    </tr>\n",
              "    <tr>\n",
              "      <th>2</th>\n",
              "      <td>Afghanistan</td>\n",
              "      <td>Asia</td>\n",
              "      <td>1962</td>\n",
              "      <td>31.997</td>\n",
              "      <td>10267083</td>\n",
              "      <td>853.100710</td>\n",
              "      <td>AFG</td>\n",
              "      <td>4</td>\n",
              "    </tr>\n",
              "    <tr>\n",
              "      <th>3</th>\n",
              "      <td>Afghanistan</td>\n",
              "      <td>Asia</td>\n",
              "      <td>1967</td>\n",
              "      <td>34.020</td>\n",
              "      <td>11537966</td>\n",
              "      <td>836.197138</td>\n",
              "      <td>AFG</td>\n",
              "      <td>4</td>\n",
              "    </tr>\n",
              "    <tr>\n",
              "      <th>4</th>\n",
              "      <td>Afghanistan</td>\n",
              "      <td>Asia</td>\n",
              "      <td>1972</td>\n",
              "      <td>36.088</td>\n",
              "      <td>13079460</td>\n",
              "      <td>739.981106</td>\n",
              "      <td>AFG</td>\n",
              "      <td>4</td>\n",
              "    </tr>\n",
              "  </tbody>\n",
              "</table>\n",
              "</div>\n",
              "    <div class=\"colab-df-buttons\">\n",
              "\n",
              "  <div class=\"colab-df-container\">\n",
              "    <button class=\"colab-df-convert\" onclick=\"convertToInteractive('df-fe919879-a53c-42f6-a0bb-0351ba42f0ff')\"\n",
              "            title=\"Convert this dataframe to an interactive table.\"\n",
              "            style=\"display:none;\">\n",
              "\n",
              "  <svg xmlns=\"http://www.w3.org/2000/svg\" height=\"24px\" viewBox=\"0 -960 960 960\">\n",
              "    <path d=\"M120-120v-720h720v720H120Zm60-500h600v-160H180v160Zm220 220h160v-160H400v160Zm0 220h160v-160H400v160ZM180-400h160v-160H180v160Zm440 0h160v-160H620v160ZM180-180h160v-160H180v160Zm440 0h160v-160H620v160Z\"/>\n",
              "  </svg>\n",
              "    </button>\n",
              "\n",
              "  <style>\n",
              "    .colab-df-container {\n",
              "      display:flex;\n",
              "      gap: 12px;\n",
              "    }\n",
              "\n",
              "    .colab-df-convert {\n",
              "      background-color: #E8F0FE;\n",
              "      border: none;\n",
              "      border-radius: 50%;\n",
              "      cursor: pointer;\n",
              "      display: none;\n",
              "      fill: #1967D2;\n",
              "      height: 32px;\n",
              "      padding: 0 0 0 0;\n",
              "      width: 32px;\n",
              "    }\n",
              "\n",
              "    .colab-df-convert:hover {\n",
              "      background-color: #E2EBFA;\n",
              "      box-shadow: 0px 1px 2px rgba(60, 64, 67, 0.3), 0px 1px 3px 1px rgba(60, 64, 67, 0.15);\n",
              "      fill: #174EA6;\n",
              "    }\n",
              "\n",
              "    .colab-df-buttons div {\n",
              "      margin-bottom: 4px;\n",
              "    }\n",
              "\n",
              "    [theme=dark] .colab-df-convert {\n",
              "      background-color: #3B4455;\n",
              "      fill: #D2E3FC;\n",
              "    }\n",
              "\n",
              "    [theme=dark] .colab-df-convert:hover {\n",
              "      background-color: #434B5C;\n",
              "      box-shadow: 0px 1px 3px 1px rgba(0, 0, 0, 0.15);\n",
              "      filter: drop-shadow(0px 1px 2px rgba(0, 0, 0, 0.3));\n",
              "      fill: #FFFFFF;\n",
              "    }\n",
              "  </style>\n",
              "\n",
              "    <script>\n",
              "      const buttonEl =\n",
              "        document.querySelector('#df-fe919879-a53c-42f6-a0bb-0351ba42f0ff button.colab-df-convert');\n",
              "      buttonEl.style.display =\n",
              "        google.colab.kernel.accessAllowed ? 'block' : 'none';\n",
              "\n",
              "      async function convertToInteractive(key) {\n",
              "        const element = document.querySelector('#df-fe919879-a53c-42f6-a0bb-0351ba42f0ff');\n",
              "        const dataTable =\n",
              "          await google.colab.kernel.invokeFunction('convertToInteractive',\n",
              "                                                    [key], {});\n",
              "        if (!dataTable) return;\n",
              "\n",
              "        const docLinkHtml = 'Like what you see? Visit the ' +\n",
              "          '<a target=\"_blank\" href=https://colab.research.google.com/notebooks/data_table.ipynb>data table notebook</a>'\n",
              "          + ' to learn more about interactive tables.';\n",
              "        element.innerHTML = '';\n",
              "        dataTable['output_type'] = 'display_data';\n",
              "        await google.colab.output.renderOutput(dataTable, element);\n",
              "        const docLink = document.createElement('div');\n",
              "        docLink.innerHTML = docLinkHtml;\n",
              "        element.appendChild(docLink);\n",
              "      }\n",
              "    </script>\n",
              "  </div>\n",
              "\n",
              "\n",
              "<div id=\"df-317a5bc1-8dd9-4467-ba1b-e9e5e30bda33\">\n",
              "  <button class=\"colab-df-quickchart\" onclick=\"quickchart('df-317a5bc1-8dd9-4467-ba1b-e9e5e30bda33')\"\n",
              "            title=\"Suggest charts\"\n",
              "            style=\"display:none;\">\n",
              "\n",
              "<svg xmlns=\"http://www.w3.org/2000/svg\" height=\"24px\"viewBox=\"0 0 24 24\"\n",
              "     width=\"24px\">\n",
              "    <g>\n",
              "        <path d=\"M19 3H5c-1.1 0-2 .9-2 2v14c0 1.1.9 2 2 2h14c1.1 0 2-.9 2-2V5c0-1.1-.9-2-2-2zM9 17H7v-7h2v7zm4 0h-2V7h2v10zm4 0h-2v-4h2v4z\"/>\n",
              "    </g>\n",
              "</svg>\n",
              "  </button>\n",
              "\n",
              "<style>\n",
              "  .colab-df-quickchart {\n",
              "      --bg-color: #E8F0FE;\n",
              "      --fill-color: #1967D2;\n",
              "      --hover-bg-color: #E2EBFA;\n",
              "      --hover-fill-color: #174EA6;\n",
              "      --disabled-fill-color: #AAA;\n",
              "      --disabled-bg-color: #DDD;\n",
              "  }\n",
              "\n",
              "  [theme=dark] .colab-df-quickchart {\n",
              "      --bg-color: #3B4455;\n",
              "      --fill-color: #D2E3FC;\n",
              "      --hover-bg-color: #434B5C;\n",
              "      --hover-fill-color: #FFFFFF;\n",
              "      --disabled-bg-color: #3B4455;\n",
              "      --disabled-fill-color: #666;\n",
              "  }\n",
              "\n",
              "  .colab-df-quickchart {\n",
              "    background-color: var(--bg-color);\n",
              "    border: none;\n",
              "    border-radius: 50%;\n",
              "    cursor: pointer;\n",
              "    display: none;\n",
              "    fill: var(--fill-color);\n",
              "    height: 32px;\n",
              "    padding: 0;\n",
              "    width: 32px;\n",
              "  }\n",
              "\n",
              "  .colab-df-quickchart:hover {\n",
              "    background-color: var(--hover-bg-color);\n",
              "    box-shadow: 0 1px 2px rgba(60, 64, 67, 0.3), 0 1px 3px 1px rgba(60, 64, 67, 0.15);\n",
              "    fill: var(--button-hover-fill-color);\n",
              "  }\n",
              "\n",
              "  .colab-df-quickchart-complete:disabled,\n",
              "  .colab-df-quickchart-complete:disabled:hover {\n",
              "    background-color: var(--disabled-bg-color);\n",
              "    fill: var(--disabled-fill-color);\n",
              "    box-shadow: none;\n",
              "  }\n",
              "\n",
              "  .colab-df-spinner {\n",
              "    border: 2px solid var(--fill-color);\n",
              "    border-color: transparent;\n",
              "    border-bottom-color: var(--fill-color);\n",
              "    animation:\n",
              "      spin 1s steps(1) infinite;\n",
              "  }\n",
              "\n",
              "  @keyframes spin {\n",
              "    0% {\n",
              "      border-color: transparent;\n",
              "      border-bottom-color: var(--fill-color);\n",
              "      border-left-color: var(--fill-color);\n",
              "    }\n",
              "    20% {\n",
              "      border-color: transparent;\n",
              "      border-left-color: var(--fill-color);\n",
              "      border-top-color: var(--fill-color);\n",
              "    }\n",
              "    30% {\n",
              "      border-color: transparent;\n",
              "      border-left-color: var(--fill-color);\n",
              "      border-top-color: var(--fill-color);\n",
              "      border-right-color: var(--fill-color);\n",
              "    }\n",
              "    40% {\n",
              "      border-color: transparent;\n",
              "      border-right-color: var(--fill-color);\n",
              "      border-top-color: var(--fill-color);\n",
              "    }\n",
              "    60% {\n",
              "      border-color: transparent;\n",
              "      border-right-color: var(--fill-color);\n",
              "    }\n",
              "    80% {\n",
              "      border-color: transparent;\n",
              "      border-right-color: var(--fill-color);\n",
              "      border-bottom-color: var(--fill-color);\n",
              "    }\n",
              "    90% {\n",
              "      border-color: transparent;\n",
              "      border-bottom-color: var(--fill-color);\n",
              "    }\n",
              "  }\n",
              "</style>\n",
              "\n",
              "  <script>\n",
              "    async function quickchart(key) {\n",
              "      const quickchartButtonEl =\n",
              "        document.querySelector('#' + key + ' button');\n",
              "      quickchartButtonEl.disabled = true;  // To prevent multiple clicks.\n",
              "      quickchartButtonEl.classList.add('colab-df-spinner');\n",
              "      try {\n",
              "        const charts = await google.colab.kernel.invokeFunction(\n",
              "            'suggestCharts', [key], {});\n",
              "      } catch (error) {\n",
              "        console.error('Error during call to suggestCharts:', error);\n",
              "      }\n",
              "      quickchartButtonEl.classList.remove('colab-df-spinner');\n",
              "      quickchartButtonEl.classList.add('colab-df-quickchart-complete');\n",
              "    }\n",
              "    (() => {\n",
              "      let quickchartButtonEl =\n",
              "        document.querySelector('#df-317a5bc1-8dd9-4467-ba1b-e9e5e30bda33 button');\n",
              "      quickchartButtonEl.style.display =\n",
              "        google.colab.kernel.accessAllowed ? 'block' : 'none';\n",
              "    })();\n",
              "  </script>\n",
              "</div>\n",
              "\n",
              "    </div>\n",
              "  </div>\n"
            ],
            "application/vnd.google.colaboratory.intrinsic+json": {
              "type": "dataframe",
              "variable_name": "df",
              "summary": "{\n  \"name\": \"df\",\n  \"rows\": 1704,\n  \"fields\": [\n    {\n      \"column\": \"country\",\n      \"properties\": {\n        \"dtype\": \"category\",\n        \"num_unique_values\": 142,\n        \"samples\": [\n          \"Turkey\",\n          \"Cameroon\",\n          \"Mauritius\"\n        ],\n        \"semantic_type\": \"\",\n        \"description\": \"\"\n      }\n    },\n    {\n      \"column\": \"continent\",\n      \"properties\": {\n        \"dtype\": \"category\",\n        \"num_unique_values\": 5,\n        \"samples\": [\n          \"Europe\",\n          \"Oceania\",\n          \"Africa\"\n        ],\n        \"semantic_type\": \"\",\n        \"description\": \"\"\n      }\n    },\n    {\n      \"column\": \"year\",\n      \"properties\": {\n        \"dtype\": \"number\",\n        \"std\": 17,\n        \"min\": 1952,\n        \"max\": 2007,\n        \"num_unique_values\": 12,\n        \"samples\": [\n          2002,\n          1997,\n          1952\n        ],\n        \"semantic_type\": \"\",\n        \"description\": \"\"\n      }\n    },\n    {\n      \"column\": \"lifeExp\",\n      \"properties\": {\n        \"dtype\": \"number\",\n        \"std\": 12.917107415241183,\n        \"min\": 23.599,\n        \"max\": 82.603,\n        \"num_unique_values\": 1626,\n        \"samples\": [\n          66.66199999999999,\n          51.445,\n          62.4\n        ],\n        \"semantic_type\": \"\",\n        \"description\": \"\"\n      }\n    },\n    {\n      \"column\": \"pop\",\n      \"properties\": {\n        \"dtype\": \"number\",\n        \"std\": 106157896,\n        \"min\": 60011,\n        \"max\": 1318683096,\n        \"num_unique_values\": 1704,\n        \"samples\": [\n          23634436,\n          2878220,\n          2156814\n        ],\n        \"semantic_type\": \"\",\n        \"description\": \"\"\n      }\n    },\n    {\n      \"column\": \"gdpPercap\",\n      \"properties\": {\n        \"dtype\": \"number\",\n        \"std\": 9857.454542541445,\n        \"min\": 241.1658765,\n        \"max\": 113523.1329,\n        \"num_unique_values\": 1704,\n        \"samples\": [\n          388.0,\n          5599.077872,\n          6650.195573\n        ],\n        \"semantic_type\": \"\",\n        \"description\": \"\"\n      }\n    },\n    {\n      \"column\": \"iso_alpha\",\n      \"properties\": {\n        \"dtype\": \"category\",\n        \"num_unique_values\": 141,\n        \"samples\": [\n          \"KEN\",\n          \"SAU\",\n          \"HRV\"\n        ],\n        \"semantic_type\": \"\",\n        \"description\": \"\"\n      }\n    },\n    {\n      \"column\": \"iso_num\",\n      \"properties\": {\n        \"dtype\": \"number\",\n        \"std\": 248,\n        \"min\": 4,\n        \"max\": 894,\n        \"num_unique_values\": 141,\n        \"samples\": [\n          404,\n          682,\n          191\n        ],\n        \"semantic_type\": \"\",\n        \"description\": \"\"\n      }\n    }\n  ]\n}"
            }
          },
          "metadata": {},
          "execution_count": 11
        }
      ]
    },
    {
      "cell_type": "markdown",
      "source": [
        "This dataset includes columns such as:\n",
        "\n",
        "- **country:** Name of the country.\n",
        "- **year:** The year of the observation.\n",
        "- **lifeExp**: Life expectancy in years.\n",
        "- **gdpPercap:** GDP per capita.\n",
        "- **pop:** Population size.\n"
      ],
      "metadata": {
        "id": "EOI1eAnMcYJD"
      }
    },
    {
      "cell_type": "markdown",
      "source": [
        "**Step 4: Set Up the Dash Application**\n",
        "\n",
        "Now, we will create a Dash application object. This object will control the flow of the app, its layout, and the interactive elements (like dropdowns)."
      ],
      "metadata": {
        "id": "b74iHU0IcmmO"
      }
    },
    {
      "cell_type": "code",
      "source": [
        "# Initialize the Dash app\n",
        "app = dash.Dash(__name__)"
      ],
      "metadata": {
        "id": "SEOueQmccsB9"
      },
      "execution_count": 12,
      "outputs": []
    },
    {
      "cell_type": "markdown",
      "source": [
        "Here, __name__ is passed as the name of the module so that Dash can locate resources (CSS, JS) correctly.\n",
        "\n"
      ],
      "metadata": {
        "id": "QjhZPQGpcvHs"
      }
    },
    {
      "cell_type": "markdown",
      "source": [
        "**Step 5: Create the Layout for the Dashboard**\n",
        "\n",
        "Dash uses a component-based layout. You can think of the layout as the structure of your web page, where you can add HTML components and graphs. We will create two dropdowns and two graphs for our dashboard."
      ],
      "metadata": {
        "id": "dBJARVXJc61L"
      }
    },
    {
      "cell_type": "code",
      "source": [
        "# Define the layout of the app\n",
        "app.layout = html.Div([\n",
        "    html.H1(\"Interactive Data Visualization Dashboard\", style={'text-align': 'center'}),\n",
        "\n",
        "    # Dropdown for selecting the country\n",
        "    dcc.Dropdown(\n",
        "        id=\"selected-country\",\n",
        "        options=[{'label': country, 'value': country} for country in df['country'].unique()],\n",
        "        value='India',  # Default value\n",
        "        multi=False,\n",
        "        style={'width': '50%'}\n",
        "    ),\n",
        "\n",
        "    # Graph for visualizing life expectancy over time\n",
        "    dcc.Graph(id=\"line-chart\"),\n",
        "\n",
        "    # Dropdown for selecting the continent\n",
        "    dcc.Dropdown(\n",
        "        id=\"selected-continent\",\n",
        "        options=[{'label': continent, 'value': continent} for continent in df['continent'].unique()],\n",
        "        value='Asia',  # Default value\n",
        "        multi=False,\n",
        "        style={'width': '50%'}\n",
        "    ),\n",
        "\n",
        "    # Graph for visualizing GDP vs Life Expectancy\n",
        "    dcc.Graph(id=\"scatter-plot\")\n",
        "])"
      ],
      "metadata": {
        "id": "F3W7sXBoc_kz"
      },
      "execution_count": 13,
      "outputs": []
    },
    {
      "cell_type": "markdown",
      "source": [
        "**Explanation:**\n",
        "\n",
        "- **html.Div:** A container that holds the layout. We use it to organize all elements vertically.\n",
        "- **html.H1:** A heading element for the dashboard title.\n",
        "- **dcc.Dropdown:** A dropdown component to let users select a country or continent.\n",
        "- **dcc.Graph:** A component to display the graphs."
      ],
      "metadata": {
        "id": "EWD-XCZKdFL5"
      }
    },
    {
      "cell_type": "markdown",
      "source": [
        "**Step 6: Create the Callback Functions for Interactivity**\n",
        "\n",
        "Callbacks in Dash make the dashboard interactive by connecting input (like dropdowns) to outputs (like graphs). Whenever the user changes the dropdown, the callback functions will be triggered to update the graphs."
      ],
      "metadata": {
        "id": "Vif8WAIvdShq"
      }
    },
    {
      "cell_type": "code",
      "source": [
        "# Callback to update the line chart based on selected country\n",
        "@app.callback(\n",
        "    Output('line-chart', 'figure'),\n",
        "    [Input('selected-country', 'value')]\n",
        ")\n",
        "def update_line_chart(selected_country):\n",
        "    # Filter the data for the selected country\n",
        "    filtered_df = df[df['country'] == selected_country]\n",
        "\n",
        "    # Create the line chart\n",
        "    fig = px.line(filtered_df, x=\"year\", y=\"lifeExp\", title=f'Life Expectancy in {selected_country}')\n",
        "    return fig"
      ],
      "metadata": {
        "id": "M_ZUrHGudgVv"
      },
      "execution_count": 14,
      "outputs": []
    },
    {
      "cell_type": "markdown",
      "source": [
        "**Explanation:**\n",
        "\n",
        "- The @app.callback decorator connects the dropdown input (selected-country) to the output graph (line-chart).\n",
        "- When a user selects a country, this function is triggered to filter the data and update the graph."
      ],
      "metadata": {
        "id": "AuitD5STdi7u"
      }
    },
    {
      "cell_type": "markdown",
      "source": [
        "**Step 7: Add Another Callback for the Scatter Plot**\n",
        "\n",
        "Similarly, we add another callback to update the scatter plot based on the selected continent."
      ],
      "metadata": {
        "id": "14BDZQUZdyTK"
      }
    },
    {
      "cell_type": "code",
      "source": [
        "# Callback to update the scatter plot based on selected continent\n",
        "@app.callback(\n",
        "    Output('scatter-plot', 'figure'),\n",
        "    [Input('selected-continent', 'value')]\n",
        ")\n",
        "def update_scatter_plot(selected_continent):\n",
        "    # Filter the data for the selected continent\n",
        "    filtered_df = df[df['continent'] == selected_continent]\n",
        "\n",
        "    # Create the scatter plot\n",
        "    fig = px.scatter(filtered_df, x='gdpPercap', y='lifeExp', color='country',\n",
        "                     size='pop', hover_name='country', log_x=True,\n",
        "                     title=f'Life Expectancy and GDP in {selected_continent}')\n",
        "    return fig\n"
      ],
      "metadata": {
        "id": "OQs3mwSyd04u"
      },
      "execution_count": 15,
      "outputs": []
    },
    {
      "cell_type": "markdown",
      "source": [
        "**Step 8: Run the App**\n",
        "\n",
        "Now that we have set up the layout and callbacks, we can run the Dash app to make it live."
      ],
      "metadata": {
        "id": "PD-d91Nrd3a5"
      }
    },
    {
      "cell_type": "code",
      "source": [
        "# Run the Dash app\n",
        "if __name__ == '__main__':\n",
        "    app.run_server(debug=True)\n"
      ],
      "metadata": {
        "id": "kOywnao1d9H9",
        "colab": {
          "base_uri": "https://localhost:8080/",
          "height": 671
        },
        "outputId": "7a4bfcb8-0e1a-4331-8328-39cf3c9014a8"
      },
      "execution_count": 16,
      "outputs": [
        {
          "output_type": "display_data",
          "data": {
            "text/plain": [
              "<IPython.core.display.Javascript object>"
            ],
            "application/javascript": [
              "(async (port, path, width, height, cache, element) => {\n",
              "    if (!google.colab.kernel.accessAllowed && !cache) {\n",
              "      return;\n",
              "    }\n",
              "    element.appendChild(document.createTextNode(''));\n",
              "    const url = await google.colab.kernel.proxyPort(port, {cache});\n",
              "    const iframe = document.createElement('iframe');\n",
              "    iframe.src = new URL(path, url).toString();\n",
              "    iframe.height = height;\n",
              "    iframe.width = width;\n",
              "    iframe.style.border = 0;\n",
              "    iframe.allow = [\n",
              "        'accelerometer',\n",
              "        'autoplay',\n",
              "        'camera',\n",
              "        'clipboard-read',\n",
              "        'clipboard-write',\n",
              "        'gyroscope',\n",
              "        'magnetometer',\n",
              "        'microphone',\n",
              "        'serial',\n",
              "        'usb',\n",
              "        'xr-spatial-tracking',\n",
              "    ].join('; ');\n",
              "    element.appendChild(iframe);\n",
              "  })(8050, \"/\", \"100%\", 650, false, window.element)"
            ]
          },
          "metadata": {}
        }
      ]
    },
    {
      "cell_type": "markdown",
      "source": [
        "After running this, Dash will provide a link (e.g., http://127.0.0.1:8050/) to access the interactive dashboard.\n",
        "\n",
        "---"
      ],
      "metadata": {
        "id": "vnqPc43oeOFh"
      }
    },
    {
      "cell_type": "markdown",
      "source": [
        "**Conclusion:**\n",
        "\n",
        "You have successfully created an interactive dashboard using Dash! The dashboard allows users to:\n",
        "\n",
        "- Select a country to visualize life expectancy trends over time.\n",
        "- Choose a continent to explore the relationship between GDP per capita and life expectancy through a scatter plot.\n",
        "\n",
        "This basic dashboard can be extended by adding more features like more interactive controls (sliders, radio buttons), custom styling, or new datasets."
      ],
      "metadata": {
        "id": "SH3wk5tJeGyN"
      }
    },
    {
      "cell_type": "markdown",
      "source": [
        "---"
      ],
      "metadata": {
        "id": "lM-mK1dZcyox"
      }
    },
    {
      "cell_type": "markdown",
      "source": [
        "**Further Readings:**\n",
        "\n",
        "- [Dash Offical Documentation](https://dash.plotly.com/)"
      ],
      "metadata": {
        "id": "ZLguaaLhwsBT"
      }
    }
  ]
}